{
 "cells": [
  {
   "cell_type": "markdown",
   "metadata": {
    "_cell_guid": "9e589d11-548b-452d-b8be-41de2d70f5b6",
    "_uuid": "924af894-0746-4a57-b024-445605e99145"
   },
   "source": [
    "## Boston House - Price Predictor"
   ]
  },
  {
   "cell_type": "code",
   "execution_count": 1,
   "metadata": {
    "ExecuteTime": {
     "end_time": "2020-10-10T10:03:01.973353Z",
     "start_time": "2020-10-10T10:02:55.706886Z"
    },
    "_cell_guid": "22a885fe-9add-4171-92ae-dff23e1d7022",
    "_uuid": "edf8a963-2223-44a5-b8fa-0e216152f294"
   },
   "outputs": [],
   "source": [
    "import pandas as pd"
   ]
  },
  {
   "cell_type": "code",
   "execution_count": 2,
   "metadata": {
    "ExecuteTime": {
     "end_time": "2020-10-10T10:03:03.923922Z",
     "start_time": "2020-10-10T10:03:03.908493Z"
    },
    "_cell_guid": "aeb2062a-c9b3-43a9-aa40-2e3481fdeb89",
    "_uuid": "70b4d723-2cc2-4027-a1a5-0e93dbdc0fbc"
   },
   "outputs": [],
   "source": [
    "housing = pd.read_csv(\"C:\\\\Users\\\\Arslan Mushtaq\\\\Desktop\\\\data.csv\")"
   ]
  },
  {
   "cell_type": "code",
   "execution_count": 3,
   "metadata": {
    "ExecuteTime": {
     "end_time": "2020-10-10T10:03:04.903352Z",
     "start_time": "2020-10-10T10:03:04.791241Z"
    },
    "_cell_guid": "b44d2235-7caf-493c-8bc8-624a504092d7",
    "_uuid": "fb65617f-2993-42e2-a3dd-78af8acff233"
   },
   "outputs": [
    {
     "data": {
      "text/html": [
       "<div>\n",
       "<style scoped>\n",
       "    .dataframe tbody tr th:only-of-type {\n",
       "        vertical-align: middle;\n",
       "    }\n",
       "\n",
       "    .dataframe tbody tr th {\n",
       "        vertical-align: top;\n",
       "    }\n",
       "\n",
       "    .dataframe thead th {\n",
       "        text-align: right;\n",
       "    }\n",
       "</style>\n",
       "<table border=\"1\" class=\"dataframe\">\n",
       "  <thead>\n",
       "    <tr style=\"text-align: right;\">\n",
       "      <th></th>\n",
       "      <th>CRIM</th>\n",
       "      <th>ZN</th>\n",
       "      <th>INDUS</th>\n",
       "      <th>CHAS</th>\n",
       "      <th>NOX</th>\n",
       "      <th>RM</th>\n",
       "      <th>AGE</th>\n",
       "      <th>DIS</th>\n",
       "      <th>RAD</th>\n",
       "      <th>TAX</th>\n",
       "      <th>PTRATIO</th>\n",
       "      <th>B</th>\n",
       "      <th>LSTAT</th>\n",
       "      <th>MEDV</th>\n",
       "    </tr>\n",
       "  </thead>\n",
       "  <tbody>\n",
       "    <tr>\n",
       "      <th>0</th>\n",
       "      <td>0.00632</td>\n",
       "      <td>18.0</td>\n",
       "      <td>2.31</td>\n",
       "      <td>0</td>\n",
       "      <td>0.538</td>\n",
       "      <td>6.575</td>\n",
       "      <td>65.2</td>\n",
       "      <td>4.0900</td>\n",
       "      <td>1</td>\n",
       "      <td>296</td>\n",
       "      <td>15.3</td>\n",
       "      <td>396.90</td>\n",
       "      <td>4.98</td>\n",
       "      <td>24.0</td>\n",
       "    </tr>\n",
       "    <tr>\n",
       "      <th>1</th>\n",
       "      <td>0.02731</td>\n",
       "      <td>0.0</td>\n",
       "      <td>7.07</td>\n",
       "      <td>0</td>\n",
       "      <td>0.469</td>\n",
       "      <td>6.421</td>\n",
       "      <td>78.9</td>\n",
       "      <td>4.9671</td>\n",
       "      <td>2</td>\n",
       "      <td>242</td>\n",
       "      <td>17.8</td>\n",
       "      <td>396.90</td>\n",
       "      <td>9.14</td>\n",
       "      <td>21.6</td>\n",
       "    </tr>\n",
       "    <tr>\n",
       "      <th>2</th>\n",
       "      <td>0.02729</td>\n",
       "      <td>0.0</td>\n",
       "      <td>7.07</td>\n",
       "      <td>0</td>\n",
       "      <td>0.469</td>\n",
       "      <td>7.185</td>\n",
       "      <td>61.1</td>\n",
       "      <td>4.9671</td>\n",
       "      <td>2</td>\n",
       "      <td>242</td>\n",
       "      <td>17.8</td>\n",
       "      <td>392.83</td>\n",
       "      <td>4.03</td>\n",
       "      <td>34.7</td>\n",
       "    </tr>\n",
       "    <tr>\n",
       "      <th>3</th>\n",
       "      <td>0.03237</td>\n",
       "      <td>0.0</td>\n",
       "      <td>2.18</td>\n",
       "      <td>0</td>\n",
       "      <td>0.458</td>\n",
       "      <td>6.998</td>\n",
       "      <td>45.8</td>\n",
       "      <td>6.0622</td>\n",
       "      <td>3</td>\n",
       "      <td>222</td>\n",
       "      <td>18.7</td>\n",
       "      <td>394.63</td>\n",
       "      <td>2.94</td>\n",
       "      <td>33.4</td>\n",
       "    </tr>\n",
       "    <tr>\n",
       "      <th>4</th>\n",
       "      <td>0.06905</td>\n",
       "      <td>0.0</td>\n",
       "      <td>2.18</td>\n",
       "      <td>0</td>\n",
       "      <td>0.458</td>\n",
       "      <td>7.147</td>\n",
       "      <td>54.2</td>\n",
       "      <td>6.0622</td>\n",
       "      <td>3</td>\n",
       "      <td>222</td>\n",
       "      <td>18.7</td>\n",
       "      <td>396.90</td>\n",
       "      <td>5.33</td>\n",
       "      <td>36.2</td>\n",
       "    </tr>\n",
       "  </tbody>\n",
       "</table>\n",
       "</div>"
      ],
      "text/plain": [
       "      CRIM    ZN  INDUS  CHAS    NOX     RM   AGE     DIS  RAD  TAX  PTRATIO  \\\n",
       "0  0.00632  18.0   2.31     0  0.538  6.575  65.2  4.0900    1  296     15.3   \n",
       "1  0.02731   0.0   7.07     0  0.469  6.421  78.9  4.9671    2  242     17.8   \n",
       "2  0.02729   0.0   7.07     0  0.469  7.185  61.1  4.9671    2  242     17.8   \n",
       "3  0.03237   0.0   2.18     0  0.458  6.998  45.8  6.0622    3  222     18.7   \n",
       "4  0.06905   0.0   2.18     0  0.458  7.147  54.2  6.0622    3  222     18.7   \n",
       "\n",
       "        B  LSTAT  MEDV  \n",
       "0  396.90   4.98  24.0  \n",
       "1  396.90   9.14  21.6  \n",
       "2  392.83   4.03  34.7  \n",
       "3  394.63   2.94  33.4  \n",
       "4  396.90   5.33  36.2  "
      ]
     },
     "execution_count": 3,
     "metadata": {},
     "output_type": "execute_result"
    }
   ],
   "source": [
    "housing.head()"
   ]
  },
  {
   "cell_type": "code",
   "execution_count": 4,
   "metadata": {
    "ExecuteTime": {
     "end_time": "2020-10-10T10:03:05.784589Z",
     "start_time": "2020-10-10T10:03:05.747570Z"
    },
    "_cell_guid": "1845e05c-f082-46d0-8f55-42534efa4f1b",
    "_uuid": "bada6263-27f4-4a12-9672-73fe62388ac3"
   },
   "outputs": [
    {
     "name": "stdout",
     "output_type": "stream",
     "text": [
      "<class 'pandas.core.frame.DataFrame'>\n",
      "RangeIndex: 511 entries, 0 to 510\n",
      "Data columns (total 14 columns):\n",
      " #   Column   Non-Null Count  Dtype  \n",
      "---  ------   --------------  -----  \n",
      " 0   CRIM     511 non-null    float64\n",
      " 1   ZN       511 non-null    float64\n",
      " 2   INDUS    511 non-null    float64\n",
      " 3   CHAS     511 non-null    int64  \n",
      " 4   NOX      511 non-null    float64\n",
      " 5   RM       506 non-null    float64\n",
      " 6   AGE      511 non-null    float64\n",
      " 7   DIS      511 non-null    float64\n",
      " 8   RAD      511 non-null    int64  \n",
      " 9   TAX      511 non-null    int64  \n",
      " 10  PTRATIO  511 non-null    float64\n",
      " 11  B        511 non-null    float64\n",
      " 12  LSTAT    511 non-null    float64\n",
      " 13  MEDV     511 non-null    float64\n",
      "dtypes: float64(11), int64(3)\n",
      "memory usage: 56.0 KB\n"
     ]
    }
   ],
   "source": [
    "housing.info()"
   ]
  },
  {
   "cell_type": "code",
   "execution_count": 5,
   "metadata": {
    "ExecuteTime": {
     "end_time": "2020-10-10T10:03:06.594089Z",
     "start_time": "2020-10-10T10:03:06.576407Z"
    },
    "_cell_guid": "7da2758b-8f16-48dc-9bbf-4d006b8d18a6",
    "_uuid": "96abbc41-5f42-4f43-82de-8d14f6fa397f"
   },
   "outputs": [
    {
     "data": {
      "text/plain": [
       "0    476\n",
       "1     35\n",
       "Name: CHAS, dtype: int64"
      ]
     },
     "execution_count": 5,
     "metadata": {},
     "output_type": "execute_result"
    }
   ],
   "source": [
    "housing['CHAS'].value_counts()"
   ]
  },
  {
   "cell_type": "code",
   "execution_count": 6,
   "metadata": {
    "ExecuteTime": {
     "end_time": "2020-10-10T10:03:07.557246Z",
     "start_time": "2020-10-10T10:03:07.400005Z"
    },
    "_cell_guid": "eccfcb24-56f6-40ed-b50d-21115cdb5e99",
    "_uuid": "e82aba48-ee50-4a08-9bd2-dba0391b8f94"
   },
   "outputs": [
    {
     "data": {
      "text/html": [
       "<div>\n",
       "<style scoped>\n",
       "    .dataframe tbody tr th:only-of-type {\n",
       "        vertical-align: middle;\n",
       "    }\n",
       "\n",
       "    .dataframe tbody tr th {\n",
       "        vertical-align: top;\n",
       "    }\n",
       "\n",
       "    .dataframe thead th {\n",
       "        text-align: right;\n",
       "    }\n",
       "</style>\n",
       "<table border=\"1\" class=\"dataframe\">\n",
       "  <thead>\n",
       "    <tr style=\"text-align: right;\">\n",
       "      <th></th>\n",
       "      <th>CRIM</th>\n",
       "      <th>ZN</th>\n",
       "      <th>INDUS</th>\n",
       "      <th>CHAS</th>\n",
       "      <th>NOX</th>\n",
       "      <th>RM</th>\n",
       "      <th>AGE</th>\n",
       "      <th>DIS</th>\n",
       "      <th>RAD</th>\n",
       "      <th>TAX</th>\n",
       "      <th>PTRATIO</th>\n",
       "      <th>B</th>\n",
       "      <th>LSTAT</th>\n",
       "      <th>MEDV</th>\n",
       "    </tr>\n",
       "  </thead>\n",
       "  <tbody>\n",
       "    <tr>\n",
       "      <th>count</th>\n",
       "      <td>511.000000</td>\n",
       "      <td>511.000000</td>\n",
       "      <td>511.000000</td>\n",
       "      <td>511.000000</td>\n",
       "      <td>511.000000</td>\n",
       "      <td>506.000000</td>\n",
       "      <td>511.000000</td>\n",
       "      <td>511.000000</td>\n",
       "      <td>511.000000</td>\n",
       "      <td>511.000000</td>\n",
       "      <td>511.000000</td>\n",
       "      <td>511.000000</td>\n",
       "      <td>511.000000</td>\n",
       "      <td>511.000000</td>\n",
       "    </tr>\n",
       "    <tr>\n",
       "      <th>mean</th>\n",
       "      <td>3.584139</td>\n",
       "      <td>11.252446</td>\n",
       "      <td>11.151096</td>\n",
       "      <td>0.068493</td>\n",
       "      <td>0.554757</td>\n",
       "      <td>6.287589</td>\n",
       "      <td>68.616243</td>\n",
       "      <td>3.783876</td>\n",
       "      <td>9.485323</td>\n",
       "      <td>407.440313</td>\n",
       "      <td>18.500000</td>\n",
       "      <td>356.600900</td>\n",
       "      <td>12.879550</td>\n",
       "      <td>22.682192</td>\n",
       "    </tr>\n",
       "    <tr>\n",
       "      <th>std</th>\n",
       "      <td>8.564433</td>\n",
       "      <td>23.234838</td>\n",
       "      <td>6.828175</td>\n",
       "      <td>0.252838</td>\n",
       "      <td>0.115310</td>\n",
       "      <td>0.703802</td>\n",
       "      <td>28.099130</td>\n",
       "      <td>2.098631</td>\n",
       "      <td>8.688469</td>\n",
       "      <td>167.903532</td>\n",
       "      <td>2.200348</td>\n",
       "      <td>90.882679</td>\n",
       "      <td>7.797416</td>\n",
       "      <td>9.484262</td>\n",
       "    </tr>\n",
       "    <tr>\n",
       "      <th>min</th>\n",
       "      <td>0.006320</td>\n",
       "      <td>0.000000</td>\n",
       "      <td>0.460000</td>\n",
       "      <td>0.000000</td>\n",
       "      <td>0.385000</td>\n",
       "      <td>3.561000</td>\n",
       "      <td>2.900000</td>\n",
       "      <td>1.129600</td>\n",
       "      <td>1.000000</td>\n",
       "      <td>187.000000</td>\n",
       "      <td>12.600000</td>\n",
       "      <td>0.320000</td>\n",
       "      <td>1.730000</td>\n",
       "      <td>5.000000</td>\n",
       "    </tr>\n",
       "    <tr>\n",
       "      <th>25%</th>\n",
       "      <td>0.082325</td>\n",
       "      <td>0.000000</td>\n",
       "      <td>5.190000</td>\n",
       "      <td>0.000000</td>\n",
       "      <td>0.449000</td>\n",
       "      <td>5.885500</td>\n",
       "      <td>45.050000</td>\n",
       "      <td>2.100350</td>\n",
       "      <td>4.000000</td>\n",
       "      <td>279.500000</td>\n",
       "      <td>17.400000</td>\n",
       "      <td>374.710000</td>\n",
       "      <td>7.065000</td>\n",
       "      <td>17.050000</td>\n",
       "    </tr>\n",
       "    <tr>\n",
       "      <th>50%</th>\n",
       "      <td>0.261690</td>\n",
       "      <td>0.000000</td>\n",
       "      <td>9.690000</td>\n",
       "      <td>0.000000</td>\n",
       "      <td>0.538000</td>\n",
       "      <td>6.209000</td>\n",
       "      <td>77.300000</td>\n",
       "      <td>3.152300</td>\n",
       "      <td>5.000000</td>\n",
       "      <td>330.000000</td>\n",
       "      <td>19.100000</td>\n",
       "      <td>391.340000</td>\n",
       "      <td>11.450000</td>\n",
       "      <td>21.200000</td>\n",
       "    </tr>\n",
       "    <tr>\n",
       "      <th>75%</th>\n",
       "      <td>3.621175</td>\n",
       "      <td>12.500000</td>\n",
       "      <td>18.100000</td>\n",
       "      <td>0.000000</td>\n",
       "      <td>0.624000</td>\n",
       "      <td>6.629750</td>\n",
       "      <td>94.050000</td>\n",
       "      <td>5.118000</td>\n",
       "      <td>24.000000</td>\n",
       "      <td>666.000000</td>\n",
       "      <td>20.200000</td>\n",
       "      <td>396.210000</td>\n",
       "      <td>17.105000</td>\n",
       "      <td>25.000000</td>\n",
       "    </tr>\n",
       "    <tr>\n",
       "      <th>max</th>\n",
       "      <td>88.976200</td>\n",
       "      <td>100.000000</td>\n",
       "      <td>27.740000</td>\n",
       "      <td>1.000000</td>\n",
       "      <td>0.871000</td>\n",
       "      <td>8.780000</td>\n",
       "      <td>100.000000</td>\n",
       "      <td>12.126500</td>\n",
       "      <td>24.000000</td>\n",
       "      <td>711.000000</td>\n",
       "      <td>23.000000</td>\n",
       "      <td>396.900000</td>\n",
       "      <td>76.000000</td>\n",
       "      <td>67.000000</td>\n",
       "    </tr>\n",
       "  </tbody>\n",
       "</table>\n",
       "</div>"
      ],
      "text/plain": [
       "             CRIM          ZN       INDUS        CHAS         NOX          RM  \\\n",
       "count  511.000000  511.000000  511.000000  511.000000  511.000000  506.000000   \n",
       "mean     3.584139   11.252446   11.151096    0.068493    0.554757    6.287589   \n",
       "std      8.564433   23.234838    6.828175    0.252838    0.115310    0.703802   \n",
       "min      0.006320    0.000000    0.460000    0.000000    0.385000    3.561000   \n",
       "25%      0.082325    0.000000    5.190000    0.000000    0.449000    5.885500   \n",
       "50%      0.261690    0.000000    9.690000    0.000000    0.538000    6.209000   \n",
       "75%      3.621175   12.500000   18.100000    0.000000    0.624000    6.629750   \n",
       "max     88.976200  100.000000   27.740000    1.000000    0.871000    8.780000   \n",
       "\n",
       "              AGE         DIS         RAD         TAX     PTRATIO           B  \\\n",
       "count  511.000000  511.000000  511.000000  511.000000  511.000000  511.000000   \n",
       "mean    68.616243    3.783876    9.485323  407.440313   18.500000  356.600900   \n",
       "std     28.099130    2.098631    8.688469  167.903532    2.200348   90.882679   \n",
       "min      2.900000    1.129600    1.000000  187.000000   12.600000    0.320000   \n",
       "25%     45.050000    2.100350    4.000000  279.500000   17.400000  374.710000   \n",
       "50%     77.300000    3.152300    5.000000  330.000000   19.100000  391.340000   \n",
       "75%     94.050000    5.118000   24.000000  666.000000   20.200000  396.210000   \n",
       "max    100.000000   12.126500   24.000000  711.000000   23.000000  396.900000   \n",
       "\n",
       "            LSTAT        MEDV  \n",
       "count  511.000000  511.000000  \n",
       "mean    12.879550   22.682192  \n",
       "std      7.797416    9.484262  \n",
       "min      1.730000    5.000000  \n",
       "25%      7.065000   17.050000  \n",
       "50%     11.450000   21.200000  \n",
       "75%     17.105000   25.000000  \n",
       "max     76.000000   67.000000  "
      ]
     },
     "execution_count": 6,
     "metadata": {},
     "output_type": "execute_result"
    }
   ],
   "source": [
    "housing.describe()"
   ]
  },
  {
   "cell_type": "code",
   "execution_count": 7,
   "metadata": {
    "ExecuteTime": {
     "end_time": "2020-10-10T10:03:08.790657Z",
     "start_time": "2020-10-10T10:03:08.058584Z"
    },
    "_cell_guid": "3f797e24-9db3-4c30-91c3-be8a5c67058b",
    "_uuid": "19aedf73-8d81-4046-945b-d9436e766ad8"
   },
   "outputs": [],
   "source": [
    "%matplotlib inline"
   ]
  },
  {
   "cell_type": "code",
   "execution_count": 8,
   "metadata": {
    "ExecuteTime": {
     "end_time": "2020-10-10T10:03:19.000479Z",
     "start_time": "2020-10-10T10:03:08.956441Z"
    },
    "_cell_guid": "bb785641-a7d9-419c-ab43-ddf66cfbaa69",
    "_uuid": "ea56e846-0016-4770-97f6-1a4b452eae88"
   },
   "outputs": [
    {
     "data": {
      "text/plain": [
       "array([[<AxesSubplot:title={'center':'AGE'}>,\n",
       "        <AxesSubplot:title={'center':'B'}>,\n",
       "        <AxesSubplot:title={'center':'CHAS'}>,\n",
       "        <AxesSubplot:title={'center':'CRIM'}>],\n",
       "       [<AxesSubplot:title={'center':'DIS'}>,\n",
       "        <AxesSubplot:title={'center':'INDUS'}>,\n",
       "        <AxesSubplot:title={'center':'LSTAT'}>,\n",
       "        <AxesSubplot:title={'center':'MEDV'}>],\n",
       "       [<AxesSubplot:title={'center':'NOX'}>,\n",
       "        <AxesSubplot:title={'center':'PTRATIO'}>,\n",
       "        <AxesSubplot:title={'center':'RAD'}>,\n",
       "        <AxesSubplot:title={'center':'RM'}>],\n",
       "       [<AxesSubplot:title={'center':'TAX'}>,\n",
       "        <AxesSubplot:title={'center':'ZN'}>, <AxesSubplot:>,\n",
       "        <AxesSubplot:>]], dtype=object)"
      ]
     },
     "execution_count": 8,
     "metadata": {},
     "output_type": "execute_result"
    },
    {
     "data": {
      "image/png": "[encoded data removed]",
      "text/plain": [
       "<Figure size 1440x1080 with 16 Axes>"
      ]
     },
     "metadata": {
      "needs_background": "light"
     },
     "output_type": "display_data"
    }
   ],
   "source": [
    "# # For plotting histogram\n",
    "import matplotlib.pyplot as plt\n",
    "housing.hist(bins=50, figsize=(20, 15))"
   ]
  },
  {
   "cell_type": "markdown",
   "metadata": {
    "_cell_guid": "2de0d8fe-9657-4349-97cb-92d968b1c0ba",
    "_uuid": "1ce74725-38de-4f03-9b00-5930dcafd347"
   },
   "source": [
    "## Train-Test Splitting"
   ]
  },
  {
   "cell_type": "code",
   "execution_count": 9,
   "metadata": {
    "ExecuteTime": {
     "end_time": "2020-10-10T10:03:21.306485Z",
     "start_time": "2020-10-10T10:03:21.271488Z"
    },
    "_cell_guid": "5f56eab5-90b0-4181-ab18-e02130e3491a",
    "_uuid": "ce25f1ea-5a97-4121-b047-a99876d02143"
   },
   "outputs": [],
   "source": [
    "# For learning purpose\n",
    "import numpy as np\n",
    "def split_train_test(data, test_ratio):\n",
    "    np.random.seed(42)\n",
    "    shuffled = np.random.permutation(len(data))\n",
    "    print(shuffled)\n",
    "    test_set_size = int(len(data) * test_ratio)\n",
    "    test_indices = shuffled[:test_set_size]\n",
    "    train_indices = shuffled[test_set_size:] \n",
    "    return data.iloc[train_indices], data.iloc[test_indices]"
   ]
  },
  {
   "cell_type": "markdown",
   "metadata": {
    "_cell_guid": "2d9535d1-b6dd-49c3-9e3d-366e45147727",
    "_uuid": "9152fab9-85be-4230-8e32-e64e6af6c416"
   },
   "source": [
    "2nd Method for Training And Testing"
   ]
  },
  {
   "cell_type": "code",
   "execution_count": 10,
   "metadata": {
    "ExecuteTime": {
     "end_time": "2020-10-10T10:03:25.493627Z",
     "start_time": "2020-10-10T10:03:25.485443Z"
    },
    "_cell_guid": "8ca222bc-59c6-4b82-900e-66b68bac5eed",
    "_uuid": "fe8a24e1-0a86-4771-9ce6-77f7038601fa"
   },
   "outputs": [],
   "source": [
    "# train_set, test_set = split_train_test(housing, 0.2)"
   ]
  },
  {
   "cell_type": "code",
   "execution_count": 11,
   "metadata": {
    "ExecuteTime": {
     "end_time": "2020-10-10T10:03:26.365188Z",
     "start_time": "2020-10-10T10:03:26.355798Z"
    },
    "_cell_guid": "252aff92-d66a-49cb-9f5f-9f6b026d20f0",
    "_uuid": "01a2714a-a786-4105-98bf-45c399c80c6e"
   },
   "outputs": [],
   "source": [
    "# print(f\"Rows in train set: {len(train_set)}\\nRows in test set: {len(test_set)}\\n\")"
   ]
  },
  {
   "cell_type": "code",
   "execution_count": 12,
   "metadata": {
    "ExecuteTime": {
     "end_time": "2020-10-10T10:03:29.408586Z",
     "start_time": "2020-10-10T10:03:27.412929Z"
    },
    "_cell_guid": "2ff6e68b-a9e9-4ab0-8e5b-b77f27e88d1f",
    "_uuid": "0ca1e334-3f43-448d-a252-7e0c211257dc"
   },
   "outputs": [
    {
     "name": "stdout",
     "output_type": "stream",
     "text": [
      "Rows in train set: 408\n",
      "Rows in test set: 103\n",
      "\n"
     ]
    }
   ],
   "source": [
    "from sklearn.model_selection import train_test_split\n",
    "train_set, test_set  = train_test_split(housing, test_size=0.2, random_state=42)\n",
    "print(f\"Rows in train set: {len(train_set)}\\nRows in test set: {len(test_set)}\\n\")"
   ]
  },
  {
   "cell_type": "code",
   "execution_count": 13,
   "metadata": {
    "ExecuteTime": {
     "end_time": "2020-10-10T10:03:34.722143Z",
     "start_time": "2020-10-10T10:03:34.700101Z"
    },
    "_cell_guid": "8f6d3ed3-0d4d-4e13-bbe5-e7a929de7dbd",
    "_uuid": "5e163904-79b9-4f96-b1d8-98dad820cd56"
   },
   "outputs": [],
   "source": [
    "from sklearn.model_selection import StratifiedShuffleSplit\n",
    "split = StratifiedShuffleSplit(n_splits=1, test_size=0.2, random_state=42)\n",
    "for train_index, test_index in split.split(housing, housing['CHAS']):\n",
    "    strat_train_set = housing.loc[train_index]\n",
    "    strat_test_set = housing.loc[test_index]"
   ]
  },
  {
   "cell_type": "code",
   "execution_count": 14,
   "metadata": {
    "ExecuteTime": {
     "end_time": "2020-10-10T10:03:37.813322Z",
     "start_time": "2020-10-10T10:03:37.795166Z"
    },
    "_cell_guid": "35cd3048-70b8-4df0-b0b7-a57aea40da2d",
    "_uuid": "4adbc0a7-9393-4512-8b40-2c7d4b92c5ce"
   },
   "outputs": [
    {
     "data": {
      "text/plain": [
       "0    96\n",
       "1     7\n",
       "Name: CHAS, dtype: int64"
      ]
     },
     "execution_count": 14,
     "metadata": {},
     "output_type": "execute_result"
    }
   ],
   "source": [
    "strat_test_set['CHAS'].value_counts()"
   ]
  },
  {
   "cell_type": "code",
   "execution_count": 15,
   "metadata": {
    "ExecuteTime": {
     "end_time": "2020-10-10T10:03:40.995213Z",
     "start_time": "2020-10-10T10:03:40.981817Z"
    },
    "_cell_guid": "93d9ec28-f481-4057-b20c-e11290f50f39",
    "_uuid": "b7451d23-e7cb-4606-ba14-9b6aa5eb8223"
   },
   "outputs": [
    {
     "data": {
      "text/plain": [
       "0    380\n",
       "1     28\n",
       "Name: CHAS, dtype: int64"
      ]
     },
     "execution_count": 15,
     "metadata": {},
     "output_type": "execute_result"
    }
   ],
   "source": [
    "strat_train_set['CHAS'].value_counts()"
   ]
  },
  {
   "cell_type": "code",
   "execution_count": 16,
   "metadata": {
    "ExecuteTime": {
     "end_time": "2020-10-10T10:03:43.570702Z",
     "start_time": "2020-10-10T10:03:43.550483Z"
    },
    "_cell_guid": "4898295f-cb7b-43d2-945d-c817cd909859",
    "_uuid": "e9e8f96c-de50-4980-af3b-a5c5d9f04954"
   },
   "outputs": [
    {
     "data": {
      "text/plain": [
       "13.571428571428571"
      ]
     },
     "execution_count": 16,
     "metadata": {},
     "output_type": "execute_result"
    }
   ],
   "source": [
    " 95/7"
   ]
  },
  {
   "cell_type": "code",
   "execution_count": 17,
   "metadata": {
    "ExecuteTime": {
     "end_time": "2020-10-10T10:03:46.566753Z",
     "start_time": "2020-10-10T10:03:46.540518Z"
    },
    "_cell_guid": "2fb3c9ae-abe4-4258-a807-92a5a84ffc03",
    "_uuid": "ae8b38e6-1c1a-4714-9a78-8379f96887cc"
   },
   "outputs": [
    {
     "data": {
      "text/plain": [
       "13.428571428571429"
      ]
     },
     "execution_count": 17,
     "metadata": {},
     "output_type": "execute_result"
    }
   ],
   "source": [
    "376/28"
   ]
  },
  {
   "cell_type": "code",
   "execution_count": 18,
   "metadata": {
    "ExecuteTime": {
     "end_time": "2020-10-10T10:03:49.113686Z",
     "start_time": "2020-10-10T10:03:49.097399Z"
    },
    "_cell_guid": "dfe57ef1-5591-4519-9097-3a846c07f54c",
    "_uuid": "2bc75863-6faf-4831-af29-f5975989f711"
   },
   "outputs": [],
   "source": [
    "housing = strat_train_set.copy()"
   ]
  },
  {
   "cell_type": "markdown",
   "metadata": {
    "_cell_guid": "33633175-b48a-4dc4-8ac6-dbee480e29cb",
    "_uuid": "2ff0737e-7f7a-4371-a7a9-0a1410d68f02"
   },
   "source": [
    "## Looking for Correlations"
   ]
  },
  {
   "cell_type": "code",
   "execution_count": 19,
   "metadata": {
    "ExecuteTime": {
     "end_time": "2020-10-10T10:03:52.162018Z",
     "start_time": "2020-10-10T10:03:52.136526Z"
    },
    "_cell_guid": "3c1cbb7b-f270-445c-b048-260d19b66ac2",
    "_uuid": "3c85942f-2eb3-4e3c-860e-dc7317df3c3b"
   },
   "outputs": [
    {
     "data": {
      "text/plain": [
       "MEDV       1.000000\n",
       "RM         0.681481\n",
       "B          0.350283\n",
       "ZN         0.341767\n",
       "DIS        0.250670\n",
       "CHAS       0.191563\n",
       "AGE       -0.366230\n",
       "RAD       -0.381955\n",
       "CRIM      -0.395849\n",
       "NOX       -0.425104\n",
       "TAX       -0.467171\n",
       "PTRATIO   -0.475870\n",
       "INDUS     -0.481414\n",
       "LSTAT     -0.720350\n",
       "Name: MEDV, dtype: float64"
      ]
     },
     "execution_count": 19,
     "metadata": {},
     "output_type": "execute_result"
    }
   ],
   "source": [
    "corr_matrix = housing.corr()\n",
    "corr_matrix['MEDV'].sort_values(ascending=False)"
   ]
  },
  {
   "cell_type": "code",
   "execution_count": 20,
   "metadata": {
    "ExecuteTime": {
     "end_time": "2020-10-10T10:03:58.935071Z",
     "start_time": "2020-10-10T10:03:55.240530Z"
    },
    "_cell_guid": "be916936-2e4f-41d9-99f7-5b47c9d6ec42",
    "_uuid": "7ce4435e-8737-4218-8ff7-e9224b286831"
   },
   "outputs": [
    {
     "data": {
      "text/plain": [
       "array([[<AxesSubplot:xlabel='MEDV', ylabel='MEDV'>,\n",
       "        <AxesSubplot:xlabel='RM', ylabel='MEDV'>,\n",
       "        <AxesSubplot:xlabel='ZN', ylabel='MEDV'>,\n",
       "        <AxesSubplot:xlabel='LSTAT', ylabel='MEDV'>],\n",
       "       [<AxesSubplot:xlabel='MEDV', ylabel='RM'>,\n",
       "        <AxesSubplot:xlabel='RM', ylabel='RM'>,\n",
       "        <AxesSubplot:xlabel='ZN', ylabel='RM'>,\n",
       "        <AxesSubplot:xlabel='LSTAT', ylabel='RM'>],\n",
       "       [<AxesSubplot:xlabel='MEDV', ylabel='ZN'>,\n",
       "        <AxesSubplot:xlabel='RM', ylabel='ZN'>,\n",
       "        <AxesSubplot:xlabel='ZN', ylabel='ZN'>,\n",
       "        <AxesSubplot:xlabel='LSTAT', ylabel='ZN'>],\n",
       "       [<AxesSubplot:xlabel='MEDV', ylabel='LSTAT'>,\n",
       "        <AxesSubplot:xlabel='RM', ylabel='LSTAT'>,\n",
       "        <AxesSubplot:xlabel='ZN', ylabel='LSTAT'>,\n",
       "        <AxesSubplot:xlabel='LSTAT', ylabel='LSTAT'>]], dtype=object)"
      ]
     },
     "execution_count": 20,
     "metadata": {},
     "output_type": "execute_result"
    },
    {
     "data": {
      "image/png": "[encoded data removed]",
      "text/plain": [
       "<Figure size 864x576 with 16 Axes>"
      ]
     },
     "metadata": {
      "needs_background": "light"
     },
     "output_type": "display_data"
    }
   ],
   "source": [
    "from pandas.plotting import scatter_matrix\n",
    "attributes = [\"MEDV\", \"RM\", \"ZN\", \"LSTAT\"]\n",
    "scatter_matrix(housing[attributes], figsize = (12,8))"
   ]
  },
  {
   "cell_type": "code",
   "execution_count": 21,
   "metadata": {
    "ExecuteTime": {
     "end_time": "2020-10-10T10:04:03.542519Z",
     "start_time": "2020-10-10T10:04:02.740037Z"
    },
    "_cell_guid": "4ed16331-e1a3-462a-b76f-80f8e0c0af41",
    "_uuid": "c49d3f38-d870-4d0c-a6de-cb90bbc9e6f5"
   },
   "outputs": [
    {
     "data": {
      "text/plain": [
       "<AxesSubplot:xlabel='RM', ylabel='MEDV'>"
      ]
     },
     "execution_count": 21,
     "metadata": {},
     "output_type": "execute_result"
    },
    {
     "data": {
      "image/png": "[encoded data removed]",
      "text/plain": [
       "<Figure size 432x288 with 1 Axes>"
      ]
     },
     "metadata": {
      "needs_background": "light"
     },
     "output_type": "display_data"
    }
   ],
   "source": [
    "housing.plot(kind=\"scatter\", x=\"RM\", y=\"MEDV\", alpha=0.8)"
   ]
  },
  {
   "cell_type": "markdown",
   "metadata": {
    "_cell_guid": "d693a72f-16e6-4610-b3bc-d93b2229d0e6",
    "_uuid": "5a975271-3d5d-499c-b829-b98fff214777"
   },
   "source": [
    "## Trying out Attribute combinations"
   ]
  },
  {
   "cell_type": "code",
   "execution_count": 22,
   "metadata": {
    "ExecuteTime": {
     "end_time": "2020-10-10T10:04:06.929318Z",
     "start_time": "2020-10-10T10:04:06.884621Z"
    },
    "_cell_guid": "cdac58b9-f48f-457d-9dbc-ad6f0082d779",
    "_uuid": "ee35f539-efdb-4514-b911-782ca5afd8a0"
   },
   "outputs": [],
   "source": [
    "housing[\"TAXRM\"] = housing['TAX']/housing['RM']"
   ]
  },
  {
   "cell_type": "code",
   "execution_count": 23,
   "metadata": {
    "ExecuteTime": {
     "end_time": "2020-10-10T10:04:10.410303Z",
     "start_time": "2020-10-10T10:04:10.336463Z"
    },
    "_cell_guid": "42e59039-4b8e-4324-8192-7ea5d35ab943",
    "_uuid": "95096d9b-302e-4581-ac7d-bd949d97a6d3"
   },
   "outputs": [
    {
     "data": {
      "text/html": [
       "<div>\n",
       "<style scoped>\n",
       "    .dataframe tbody tr th:only-of-type {\n",
       "        vertical-align: middle;\n",
       "    }\n",
       "\n",
       "    .dataframe tbody tr th {\n",
       "        vertical-align: top;\n",
       "    }\n",
       "\n",
       "    .dataframe thead th {\n",
       "        text-align: right;\n",
       "    }\n",
       "</style>\n",
       "<table border=\"1\" class=\"dataframe\">\n",
       "  <thead>\n",
       "    <tr style=\"text-align: right;\">\n",
       "      <th></th>\n",
       "      <th>CRIM</th>\n",
       "      <th>ZN</th>\n",
       "      <th>INDUS</th>\n",
       "      <th>CHAS</th>\n",
       "      <th>NOX</th>\n",
       "      <th>RM</th>\n",
       "      <th>AGE</th>\n",
       "      <th>DIS</th>\n",
       "      <th>RAD</th>\n",
       "      <th>TAX</th>\n",
       "      <th>PTRATIO</th>\n",
       "      <th>B</th>\n",
       "      <th>LSTAT</th>\n",
       "      <th>MEDV</th>\n",
       "      <th>TAXRM</th>\n",
       "    </tr>\n",
       "  </thead>\n",
       "  <tbody>\n",
       "    <tr>\n",
       "      <th>495</th>\n",
       "      <td>0.17899</td>\n",
       "      <td>0.0</td>\n",
       "      <td>9.69</td>\n",
       "      <td>0</td>\n",
       "      <td>0.585</td>\n",
       "      <td>5.670</td>\n",
       "      <td>28.8</td>\n",
       "      <td>2.7986</td>\n",
       "      <td>6</td>\n",
       "      <td>391</td>\n",
       "      <td>19.2</td>\n",
       "      <td>393.29</td>\n",
       "      <td>17.60</td>\n",
       "      <td>23.1</td>\n",
       "      <td>68.959436</td>\n",
       "    </tr>\n",
       "    <tr>\n",
       "      <th>254</th>\n",
       "      <td>0.04819</td>\n",
       "      <td>80.0</td>\n",
       "      <td>3.64</td>\n",
       "      <td>0</td>\n",
       "      <td>0.392</td>\n",
       "      <td>6.108</td>\n",
       "      <td>32.0</td>\n",
       "      <td>9.2203</td>\n",
       "      <td>1</td>\n",
       "      <td>315</td>\n",
       "      <td>16.4</td>\n",
       "      <td>392.89</td>\n",
       "      <td>6.57</td>\n",
       "      <td>21.9</td>\n",
       "      <td>51.571709</td>\n",
       "    </tr>\n",
       "    <tr>\n",
       "      <th>365</th>\n",
       "      <td>4.55587</td>\n",
       "      <td>0.0</td>\n",
       "      <td>18.10</td>\n",
       "      <td>0</td>\n",
       "      <td>0.718</td>\n",
       "      <td>3.561</td>\n",
       "      <td>87.9</td>\n",
       "      <td>1.6132</td>\n",
       "      <td>24</td>\n",
       "      <td>666</td>\n",
       "      <td>20.2</td>\n",
       "      <td>354.70</td>\n",
       "      <td>7.12</td>\n",
       "      <td>27.5</td>\n",
       "      <td>187.026116</td>\n",
       "    </tr>\n",
       "    <tr>\n",
       "      <th>193</th>\n",
       "      <td>0.02187</td>\n",
       "      <td>60.0</td>\n",
       "      <td>2.93</td>\n",
       "      <td>0</td>\n",
       "      <td>0.401</td>\n",
       "      <td>6.800</td>\n",
       "      <td>9.9</td>\n",
       "      <td>6.2196</td>\n",
       "      <td>1</td>\n",
       "      <td>265</td>\n",
       "      <td>15.6</td>\n",
       "      <td>393.37</td>\n",
       "      <td>5.03</td>\n",
       "      <td>31.1</td>\n",
       "      <td>38.970588</td>\n",
       "    </tr>\n",
       "    <tr>\n",
       "      <th>35</th>\n",
       "      <td>0.06417</td>\n",
       "      <td>0.0</td>\n",
       "      <td>5.96</td>\n",
       "      <td>0</td>\n",
       "      <td>0.499</td>\n",
       "      <td>NaN</td>\n",
       "      <td>68.2</td>\n",
       "      <td>3.3603</td>\n",
       "      <td>5</td>\n",
       "      <td>279</td>\n",
       "      <td>19.2</td>\n",
       "      <td>396.90</td>\n",
       "      <td>9.68</td>\n",
       "      <td>18.9</td>\n",
       "      <td>NaN</td>\n",
       "    </tr>\n",
       "  </tbody>\n",
       "</table>\n",
       "</div>"
      ],
      "text/plain": [
       "        CRIM    ZN  INDUS  CHAS    NOX     RM   AGE     DIS  RAD  TAX  \\\n",
       "495  0.17899   0.0   9.69     0  0.585  5.670  28.8  2.7986    6  391   \n",
       "254  0.04819  80.0   3.64     0  0.392  6.108  32.0  9.2203    1  315   \n",
       "365  4.55587   0.0  18.10     0  0.718  3.561  87.9  1.6132   24  666   \n",
       "193  0.02187  60.0   2.93     0  0.401  6.800   9.9  6.2196    1  265   \n",
       "35   0.06417   0.0   5.96     0  0.499    NaN  68.2  3.3603    5  279   \n",
       "\n",
       "     PTRATIO       B  LSTAT  MEDV       TAXRM  \n",
       "495     19.2  393.29  17.60  23.1   68.959436  \n",
       "254     16.4  392.89   6.57  21.9   51.571709  \n",
       "365     20.2  354.70   7.12  27.5  187.026116  \n",
       "193     15.6  393.37   5.03  31.1   38.970588  \n",
       "35      19.2  396.90   9.68  18.9         NaN  "
      ]
     },
     "execution_count": 23,
     "metadata": {},
     "output_type": "execute_result"
    }
   ],
   "source": [
    "housing.head()"
   ]
  },
  {
   "cell_type": "code",
   "execution_count": 24,
   "metadata": {
    "ExecuteTime": {
     "end_time": "2020-10-10T10:04:13.933162Z",
     "start_time": "2020-10-10T10:04:13.900457Z"
    },
    "_cell_guid": "76db6ffc-40b3-4a31-ac8c-5dcec9938f53",
    "_uuid": "0b076df1-368f-443a-8a17-2bcf34d57ab9"
   },
   "outputs": [
    {
     "data": {
      "text/plain": [
       "MEDV       1.000000\n",
       "RM         0.681481\n",
       "B          0.350283\n",
       "ZN         0.341767\n",
       "DIS        0.250670\n",
       "CHAS       0.191563\n",
       "AGE       -0.366230\n",
       "RAD       -0.381955\n",
       "CRIM      -0.395849\n",
       "NOX       -0.425104\n",
       "TAX       -0.467171\n",
       "PTRATIO   -0.475870\n",
       "INDUS     -0.481414\n",
       "TAXRM     -0.535069\n",
       "LSTAT     -0.720350\n",
       "Name: MEDV, dtype: float64"
      ]
     },
     "execution_count": 24,
     "metadata": {},
     "output_type": "execute_result"
    }
   ],
   "source": [
    "corr_matrix = housing.corr()\n",
    "corr_matrix['MEDV'].sort_values(ascending=False)"
   ]
  },
  {
   "cell_type": "code",
   "execution_count": 25,
   "metadata": {
    "ExecuteTime": {
     "end_time": "2020-10-10T10:04:17.827964Z",
     "start_time": "2020-10-10T10:04:17.281431Z"
    },
    "_cell_guid": "979427ed-2527-4c37-9ae9-2a44e555c3fb",
    "_uuid": "7f1218a2-dcdf-46cf-a632-080bd313958c"
   },
   "outputs": [
    {
     "data": {
      "text/plain": [
       "<AxesSubplot:xlabel='TAXRM', ylabel='MEDV'>"
      ]
     },
     "execution_count": 25,
     "metadata": {},
     "output_type": "execute_result"
    },
    {
     "data": {
      "image/png": "[encoded data removed]",
      "text/plain": [
       "<Figure size 432x288 with 1 Axes>"
      ]
     },
     "metadata": {
      "needs_background": "light"
     },
     "output_type": "display_data"
    }
   ],
   "source": [
    "housing.plot(kind=\"scatter\", x=\"TAXRM\", y=\"MEDV\", alpha=0.8)"
   ]
  },
  {
   "cell_type": "code",
   "execution_count": 26,
   "metadata": {
    "ExecuteTime": {
     "end_time": "2020-10-10T10:04:21.591878Z",
     "start_time": "2020-10-10T10:04:21.579237Z"
    },
    "_cell_guid": "1fa5ff96-679c-4dd0-95cf-1774a68626bb",
    "_uuid": "99e4db04-f409-4b18-a482-811d57ea5480"
   },
   "outputs": [],
   "source": [
    "housing = strat_train_set.drop(\"MEDV\", axis=1)\n",
    "housing_labels = strat_train_set[\"MEDV\"].copy()"
   ]
  },
  {
   "cell_type": "markdown",
   "metadata": {
    "_cell_guid": "c8296c10-a2c1-4130-9a83-2ad7dd325b75",
    "_uuid": "234c2e70-da9f-4799-9e50-8797c8e26d30"
   },
   "source": [
    "## Missing Attributes"
   ]
  },
  {
   "cell_type": "code",
   "execution_count": 27,
   "metadata": {
    "ExecuteTime": {
     "end_time": "2020-10-10T10:04:24.615142Z",
     "start_time": "2020-10-10T10:04:24.609293Z"
    },
    "_cell_guid": "7d7d15ba-c8f9-4f28-97ef-e143aebf18f4",
    "_uuid": "59dbc6ec-2655-4b68-8742-103a4811289e"
   },
   "outputs": [],
   "source": [
    "# To take care of missing attributes, you have three options:\n",
    "#     1. Get rid of the missing data points\n",
    "#     2. Get rid of the whole attribute\n",
    "#     3. Set the value to some value(0, mean or median)"
   ]
  },
  {
   "cell_type": "code",
   "execution_count": 28,
   "metadata": {
    "ExecuteTime": {
     "end_time": "2020-10-10T10:04:28.254404Z",
     "start_time": "2020-10-10T10:04:28.218001Z"
    },
    "_cell_guid": "e7fff287-7426-49c6-9bf5-feca2273664a",
    "_uuid": "1cc88dd8-40aa-47f9-9139-d89d3f03f62a"
   },
   "outputs": [
    {
     "data": {
      "text/plain": [
       "(403, 13)"
      ]
     },
     "execution_count": 28,
     "metadata": {},
     "output_type": "execute_result"
    }
   ],
   "source": [
    "a = housing.dropna(subset=[\"RM\"]) #Option 1\n",
    "a.shape\n",
    "# Note that the original housing dataframe will remain unchanged"
   ]
  },
  {
   "cell_type": "code",
   "execution_count": 29,
   "metadata": {
    "ExecuteTime": {
     "end_time": "2020-10-10T10:04:32.161067Z",
     "start_time": "2020-10-10T10:04:32.141394Z"
    },
    "_cell_guid": "d43284cb-d250-428d-acc6-68f49c22b4e3",
    "_uuid": "d1c884bc-ea61-409e-aaa5-1c509e575735"
   },
   "outputs": [
    {
     "data": {
      "text/plain": [
       "(408, 12)"
      ]
     },
     "execution_count": 29,
     "metadata": {},
     "output_type": "execute_result"
    }
   ],
   "source": [
    "housing.drop(\"RM\", axis=1).shape # Option 2\n",
    "# Note that there is no RM column and also note that the original housing dataframe will remain unchanged"
   ]
  },
  {
   "cell_type": "code",
   "execution_count": 30,
   "metadata": {
    "ExecuteTime": {
     "end_time": "2020-10-10T10:04:35.612019Z",
     "start_time": "2020-10-10T10:04:35.602136Z"
    },
    "_cell_guid": "c75ebd11-1269-4359-b91b-2a62ed3ac1ff",
    "_uuid": "c257ef57-997b-4268-a179-25a217c4a1f9"
   },
   "outputs": [],
   "source": [
    "median = housing[\"RM\"].median() # Compute median for Option 3"
   ]
  },
  {
   "cell_type": "code",
   "execution_count": 31,
   "metadata": {
    "ExecuteTime": {
     "end_time": "2020-10-10T10:04:39.478158Z",
     "start_time": "2020-10-10T10:04:39.438394Z"
    },
    "_cell_guid": "6eea255a-6efd-4003-b607-41b0debaa95a",
    "_uuid": "9245992d-ddcf-4621-a04d-b065452d39de"
   },
   "outputs": [
    {
     "data": {
      "text/plain": [
       "495    5.670\n",
       "254    6.108\n",
       "365    3.561\n",
       "193    6.800\n",
       "35     6.208\n",
       "       ...  \n",
       "386    4.652\n",
       "243    6.393\n",
       "22     6.142\n",
       "480    6.242\n",
       "455    6.525\n",
       "Name: RM, Length: 408, dtype: float64"
      ]
     },
     "execution_count": 31,
     "metadata": {},
     "output_type": "execute_result"
    }
   ],
   "source": [
    "housing[\"RM\"].fillna(median) # Option 3\n",
    "# Note that the original housing dataframe will remain unchanged"
   ]
  },
  {
   "cell_type": "code",
   "execution_count": 32,
   "metadata": {
    "ExecuteTime": {
     "end_time": "2020-10-10T10:04:43.900728Z",
     "start_time": "2020-10-10T10:04:43.881276Z"
    },
    "_cell_guid": "863cae44-afdd-45e7-80fc-08346a35fbce",
    "_uuid": "afd600f8-b8d3-47da-b5d4-2a7839764702"
   },
   "outputs": [
    {
     "data": {
      "text/plain": [
       "(408, 13)"
      ]
     },
     "execution_count": 32,
     "metadata": {},
     "output_type": "execute_result"
    }
   ],
   "source": [
    "housing.shape"
   ]
  },
  {
   "cell_type": "code",
   "execution_count": 33,
   "metadata": {
    "ExecuteTime": {
     "end_time": "2020-10-10T10:04:47.347662Z",
     "start_time": "2020-10-10T10:04:47.212357Z"
    },
    "_cell_guid": "0d86fc5d-d08e-44ea-ac8a-d384c4ab5170",
    "_uuid": "3f44ae2e-1304-4e04-ad66-8f13c470bc8e"
   },
   "outputs": [
    {
     "data": {
      "text/html": [
       "<div>\n",
       "<style scoped>\n",
       "    .dataframe tbody tr th:only-of-type {\n",
       "        vertical-align: middle;\n",
       "    }\n",
       "\n",
       "    .dataframe tbody tr th {\n",
       "        vertical-align: top;\n",
       "    }\n",
       "\n",
       "    .dataframe thead th {\n",
       "        text-align: right;\n",
       "    }\n",
       "</style>\n",
       "<table border=\"1\" class=\"dataframe\">\n",
       "  <thead>\n",
       "    <tr style=\"text-align: right;\">\n",
       "      <th></th>\n",
       "      <th>CRIM</th>\n",
       "      <th>ZN</th>\n",
       "      <th>INDUS</th>\n",
       "      <th>CHAS</th>\n",
       "      <th>NOX</th>\n",
       "      <th>RM</th>\n",
       "      <th>AGE</th>\n",
       "      <th>DIS</th>\n",
       "      <th>RAD</th>\n",
       "      <th>TAX</th>\n",
       "      <th>PTRATIO</th>\n",
       "      <th>B</th>\n",
       "      <th>LSTAT</th>\n",
       "    </tr>\n",
       "  </thead>\n",
       "  <tbody>\n",
       "    <tr>\n",
       "      <th>count</th>\n",
       "      <td>408.000000</td>\n",
       "      <td>408.000000</td>\n",
       "      <td>408.00000</td>\n",
       "      <td>408.000000</td>\n",
       "      <td>408.000000</td>\n",
       "      <td>403.000000</td>\n",
       "      <td>408.000000</td>\n",
       "      <td>408.000000</td>\n",
       "      <td>408.000000</td>\n",
       "      <td>408.000000</td>\n",
       "      <td>408.000000</td>\n",
       "      <td>408.000000</td>\n",
       "      <td>408.000000</td>\n",
       "    </tr>\n",
       "    <tr>\n",
       "      <th>mean</th>\n",
       "      <td>3.574915</td>\n",
       "      <td>10.730392</td>\n",
       "      <td>11.37527</td>\n",
       "      <td>0.068627</td>\n",
       "      <td>0.558200</td>\n",
       "      <td>6.269007</td>\n",
       "      <td>69.169363</td>\n",
       "      <td>3.738277</td>\n",
       "      <td>9.666667</td>\n",
       "      <td>411.227941</td>\n",
       "      <td>18.500245</td>\n",
       "      <td>353.601397</td>\n",
       "      <td>12.920907</td>\n",
       "    </tr>\n",
       "    <tr>\n",
       "      <th>std</th>\n",
       "      <td>8.066171</td>\n",
       "      <td>22.067428</td>\n",
       "      <td>6.83855</td>\n",
       "      <td>0.253130</td>\n",
       "      <td>0.116078</td>\n",
       "      <td>0.703808</td>\n",
       "      <td>28.275511</td>\n",
       "      <td>2.085949</td>\n",
       "      <td>8.716483</td>\n",
       "      <td>168.222809</td>\n",
       "      <td>2.143483</td>\n",
       "      <td>95.566677</td>\n",
       "      <td>7.230954</td>\n",
       "    </tr>\n",
       "    <tr>\n",
       "      <th>min</th>\n",
       "      <td>0.006320</td>\n",
       "      <td>0.000000</td>\n",
       "      <td>0.74000</td>\n",
       "      <td>0.000000</td>\n",
       "      <td>0.389000</td>\n",
       "      <td>3.561000</td>\n",
       "      <td>2.900000</td>\n",
       "      <td>1.129600</td>\n",
       "      <td>1.000000</td>\n",
       "      <td>187.000000</td>\n",
       "      <td>13.000000</td>\n",
       "      <td>0.320000</td>\n",
       "      <td>1.730000</td>\n",
       "    </tr>\n",
       "    <tr>\n",
       "      <th>25%</th>\n",
       "      <td>0.087962</td>\n",
       "      <td>0.000000</td>\n",
       "      <td>5.32000</td>\n",
       "      <td>0.000000</td>\n",
       "      <td>0.453000</td>\n",
       "      <td>5.876500</td>\n",
       "      <td>45.075000</td>\n",
       "      <td>2.062000</td>\n",
       "      <td>4.000000</td>\n",
       "      <td>284.000000</td>\n",
       "      <td>17.400000</td>\n",
       "      <td>374.617500</td>\n",
       "      <td>6.927500</td>\n",
       "    </tr>\n",
       "    <tr>\n",
       "      <th>50%</th>\n",
       "      <td>0.286735</td>\n",
       "      <td>0.000000</td>\n",
       "      <td>9.90000</td>\n",
       "      <td>0.000000</td>\n",
       "      <td>0.538000</td>\n",
       "      <td>6.208000</td>\n",
       "      <td>77.950000</td>\n",
       "      <td>3.107300</td>\n",
       "      <td>5.000000</td>\n",
       "      <td>335.000000</td>\n",
       "      <td>19.050000</td>\n",
       "      <td>390.980000</td>\n",
       "      <td>11.705000</td>\n",
       "    </tr>\n",
       "    <tr>\n",
       "      <th>75%</th>\n",
       "      <td>3.716457</td>\n",
       "      <td>12.500000</td>\n",
       "      <td>18.10000</td>\n",
       "      <td>0.000000</td>\n",
       "      <td>0.625750</td>\n",
       "      <td>6.629500</td>\n",
       "      <td>94.150000</td>\n",
       "      <td>4.978850</td>\n",
       "      <td>24.000000</td>\n",
       "      <td>666.000000</td>\n",
       "      <td>20.200000</td>\n",
       "      <td>395.645000</td>\n",
       "      <td>17.272500</td>\n",
       "    </tr>\n",
       "    <tr>\n",
       "      <th>max</th>\n",
       "      <td>73.534100</td>\n",
       "      <td>100.000000</td>\n",
       "      <td>27.74000</td>\n",
       "      <td>1.000000</td>\n",
       "      <td>0.871000</td>\n",
       "      <td>8.704000</td>\n",
       "      <td>100.000000</td>\n",
       "      <td>12.126500</td>\n",
       "      <td>24.000000</td>\n",
       "      <td>711.000000</td>\n",
       "      <td>23.000000</td>\n",
       "      <td>396.900000</td>\n",
       "      <td>36.980000</td>\n",
       "    </tr>\n",
       "  </tbody>\n",
       "</table>\n",
       "</div>"
      ],
      "text/plain": [
       "             CRIM          ZN      INDUS        CHAS         NOX          RM  \\\n",
       "count  408.000000  408.000000  408.00000  408.000000  408.000000  403.000000   \n",
       "mean     3.574915   10.730392   11.37527    0.068627    0.558200    6.269007   \n",
       "std      8.066171   22.067428    6.83855    0.253130    0.116078    0.703808   \n",
       "min      0.006320    0.000000    0.74000    0.000000    0.389000    3.561000   \n",
       "25%      0.087962    0.000000    5.32000    0.000000    0.453000    5.876500   \n",
       "50%      0.286735    0.000000    9.90000    0.000000    0.538000    6.208000   \n",
       "75%      3.716457   12.500000   18.10000    0.000000    0.625750    6.629500   \n",
       "max     73.534100  100.000000   27.74000    1.000000    0.871000    8.704000   \n",
       "\n",
       "              AGE         DIS         RAD         TAX     PTRATIO           B  \\\n",
       "count  408.000000  408.000000  408.000000  408.000000  408.000000  408.000000   \n",
       "mean    69.169363    3.738277    9.666667  411.227941   18.500245  353.601397   \n",
       "std     28.275511    2.085949    8.716483  168.222809    2.143483   95.566677   \n",
       "min      2.900000    1.129600    1.000000  187.000000   13.000000    0.320000   \n",
       "25%     45.075000    2.062000    4.000000  284.000000   17.400000  374.617500   \n",
       "50%     77.950000    3.107300    5.000000  335.000000   19.050000  390.980000   \n",
       "75%     94.150000    4.978850   24.000000  666.000000   20.200000  395.645000   \n",
       "max    100.000000   12.126500   24.000000  711.000000   23.000000  396.900000   \n",
       "\n",
       "            LSTAT  \n",
       "count  408.000000  \n",
       "mean    12.920907  \n",
       "std      7.230954  \n",
       "min      1.730000  \n",
       "25%      6.927500  \n",
       "50%     11.705000  \n",
       "75%     17.272500  \n",
       "max     36.980000  "
      ]
     },
     "execution_count": 33,
     "metadata": {},
     "output_type": "execute_result"
    }
   ],
   "source": [
    "housing.describe() # before we started filling missing attributes"
   ]
  },
  {
   "cell_type": "code",
   "execution_count": 34,
   "metadata": {
    "ExecuteTime": {
     "end_time": "2020-10-10T10:04:52.718392Z",
     "start_time": "2020-10-10T10:04:51.248231Z"
    },
    "_cell_guid": "c1e8403f-c424-4a93-bb59-8b9dc51ec7da",
    "_uuid": "a8a7f0dc-eac8-40a9-8cd0-fc8ede1785b0"
   },
   "outputs": [
    {
     "data": {
      "text/plain": [
       "SimpleImputer(strategy='median')"
      ]
     },
     "execution_count": 34,
     "metadata": {},
     "output_type": "execute_result"
    }
   ],
   "source": [
    "from sklearn.impute import SimpleImputer\n",
    "imputer = SimpleImputer(strategy=\"median\")\n",
    "imputer.fit(housing)"
   ]
  },
  {
   "cell_type": "code",
   "execution_count": 35,
   "metadata": {
    "ExecuteTime": {
     "end_time": "2020-10-10T10:04:56.664033Z",
     "start_time": "2020-10-10T10:04:56.644327Z"
    },
    "_cell_guid": "e780048b-719c-47e9-9a28-0ac86a6dc15d",
    "_uuid": "07ccdd8e-3432-42bc-9c67-fc43a768b5ce"
   },
   "outputs": [
    {
     "data": {
      "text/plain": [
       "array([2.86735e-01, 0.00000e+00, 9.90000e+00, 0.00000e+00, 5.38000e-01,\n",
       "       6.20800e+00, 7.79500e+01, 3.10730e+00, 5.00000e+00, 3.35000e+02,\n",
       "       1.90500e+01, 3.90980e+02, 1.17050e+01])"
      ]
     },
     "execution_count": 35,
     "metadata": {},
     "output_type": "execute_result"
    }
   ],
   "source": [
    "imputer.statistics_"
   ]
  },
  {
   "cell_type": "code",
   "execution_count": 36,
   "metadata": {
    "ExecuteTime": {
     "end_time": "2020-10-10T10:05:00.565606Z",
     "start_time": "2020-10-10T10:05:00.541572Z"
    },
    "_cell_guid": "b01f9a5b-66b6-48c6-90ee-82f2809763c3",
    "_uuid": "073a354c-151b-4995-b3de-8b49251c55a8"
   },
   "outputs": [],
   "source": [
    "X = imputer.transform(housing)"
   ]
  },
  {
   "cell_type": "code",
   "execution_count": 37,
   "metadata": {
    "ExecuteTime": {
     "end_time": "2020-10-10T10:05:03.895874Z",
     "start_time": "2020-10-10T10:05:03.888648Z"
    },
    "_cell_guid": "44cea807-452e-45e0-a5c6-e3a458ef4e5f",
    "_uuid": "a45effba-8ac7-4c99-a71d-df9239a283e7"
   },
   "outputs": [],
   "source": [
    "housing_tr = pd.DataFrame(X, columns=housing.columns)"
   ]
  },
  {
   "cell_type": "code",
   "execution_count": 38,
   "metadata": {
    "ExecuteTime": {
     "end_time": "2020-10-10T10:05:08.466246Z",
     "start_time": "2020-10-10T10:05:08.301826Z"
    },
    "_cell_guid": "663cb43e-4ccc-467b-86ec-306820e54081",
    "_uuid": "07fbdc7c-9b86-41c4-9da2-0b68b99377b2"
   },
   "outputs": [
    {
     "data": {
      "text/html": [
       "<div>\n",
       "<style scoped>\n",
       "    .dataframe tbody tr th:only-of-type {\n",
       "        vertical-align: middle;\n",
       "    }\n",
       "\n",
       "    .dataframe tbody tr th {\n",
       "        vertical-align: top;\n",
       "    }\n",
       "\n",
       "    .dataframe thead th {\n",
       "        text-align: right;\n",
       "    }\n",
       "</style>\n",
       "<table border=\"1\" class=\"dataframe\">\n",
       "  <thead>\n",
       "    <tr style=\"text-align: right;\">\n",
       "      <th></th>\n",
       "      <th>CRIM</th>\n",
       "      <th>ZN</th>\n",
       "      <th>INDUS</th>\n",
       "      <th>CHAS</th>\n",
       "      <th>NOX</th>\n",
       "      <th>RM</th>\n",
       "      <th>AGE</th>\n",
       "      <th>DIS</th>\n",
       "      <th>RAD</th>\n",
       "      <th>TAX</th>\n",
       "      <th>PTRATIO</th>\n",
       "      <th>B</th>\n",
       "      <th>LSTAT</th>\n",
       "    </tr>\n",
       "  </thead>\n",
       "  <tbody>\n",
       "    <tr>\n",
       "      <th>count</th>\n",
       "      <td>408.000000</td>\n",
       "      <td>408.000000</td>\n",
       "      <td>408.00000</td>\n",
       "      <td>408.000000</td>\n",
       "      <td>408.000000</td>\n",
       "      <td>408.000000</td>\n",
       "      <td>408.000000</td>\n",
       "      <td>408.000000</td>\n",
       "      <td>408.000000</td>\n",
       "      <td>408.000000</td>\n",
       "      <td>408.000000</td>\n",
       "      <td>408.000000</td>\n",
       "      <td>408.000000</td>\n",
       "    </tr>\n",
       "    <tr>\n",
       "      <th>mean</th>\n",
       "      <td>3.574915</td>\n",
       "      <td>10.730392</td>\n",
       "      <td>11.37527</td>\n",
       "      <td>0.068627</td>\n",
       "      <td>0.558200</td>\n",
       "      <td>6.268260</td>\n",
       "      <td>69.169363</td>\n",
       "      <td>3.738277</td>\n",
       "      <td>9.666667</td>\n",
       "      <td>411.227941</td>\n",
       "      <td>18.500245</td>\n",
       "      <td>353.601397</td>\n",
       "      <td>12.920907</td>\n",
       "    </tr>\n",
       "    <tr>\n",
       "      <th>std</th>\n",
       "      <td>8.066171</td>\n",
       "      <td>22.067428</td>\n",
       "      <td>6.83855</td>\n",
       "      <td>0.253130</td>\n",
       "      <td>0.116078</td>\n",
       "      <td>0.699504</td>\n",
       "      <td>28.275511</td>\n",
       "      <td>2.085949</td>\n",
       "      <td>8.716483</td>\n",
       "      <td>168.222809</td>\n",
       "      <td>2.143483</td>\n",
       "      <td>95.566677</td>\n",
       "      <td>7.230954</td>\n",
       "    </tr>\n",
       "    <tr>\n",
       "      <th>min</th>\n",
       "      <td>0.006320</td>\n",
       "      <td>0.000000</td>\n",
       "      <td>0.74000</td>\n",
       "      <td>0.000000</td>\n",
       "      <td>0.389000</td>\n",
       "      <td>3.561000</td>\n",
       "      <td>2.900000</td>\n",
       "      <td>1.129600</td>\n",
       "      <td>1.000000</td>\n",
       "      <td>187.000000</td>\n",
       "      <td>13.000000</td>\n",
       "      <td>0.320000</td>\n",
       "      <td>1.730000</td>\n",
       "    </tr>\n",
       "    <tr>\n",
       "      <th>25%</th>\n",
       "      <td>0.087962</td>\n",
       "      <td>0.000000</td>\n",
       "      <td>5.32000</td>\n",
       "      <td>0.000000</td>\n",
       "      <td>0.453000</td>\n",
       "      <td>5.878750</td>\n",
       "      <td>45.075000</td>\n",
       "      <td>2.062000</td>\n",
       "      <td>4.000000</td>\n",
       "      <td>284.000000</td>\n",
       "      <td>17.400000</td>\n",
       "      <td>374.617500</td>\n",
       "      <td>6.927500</td>\n",
       "    </tr>\n",
       "    <tr>\n",
       "      <th>50%</th>\n",
       "      <td>0.286735</td>\n",
       "      <td>0.000000</td>\n",
       "      <td>9.90000</td>\n",
       "      <td>0.000000</td>\n",
       "      <td>0.538000</td>\n",
       "      <td>6.208000</td>\n",
       "      <td>77.950000</td>\n",
       "      <td>3.107300</td>\n",
       "      <td>5.000000</td>\n",
       "      <td>335.000000</td>\n",
       "      <td>19.050000</td>\n",
       "      <td>390.980000</td>\n",
       "      <td>11.705000</td>\n",
       "    </tr>\n",
       "    <tr>\n",
       "      <th>75%</th>\n",
       "      <td>3.716457</td>\n",
       "      <td>12.500000</td>\n",
       "      <td>18.10000</td>\n",
       "      <td>0.000000</td>\n",
       "      <td>0.625750</td>\n",
       "      <td>6.626000</td>\n",
       "      <td>94.150000</td>\n",
       "      <td>4.978850</td>\n",
       "      <td>24.000000</td>\n",
       "      <td>666.000000</td>\n",
       "      <td>20.200000</td>\n",
       "      <td>395.645000</td>\n",
       "      <td>17.272500</td>\n",
       "    </tr>\n",
       "    <tr>\n",
       "      <th>max</th>\n",
       "      <td>73.534100</td>\n",
       "      <td>100.000000</td>\n",
       "      <td>27.74000</td>\n",
       "      <td>1.000000</td>\n",
       "      <td>0.871000</td>\n",
       "      <td>8.704000</td>\n",
       "      <td>100.000000</td>\n",
       "      <td>12.126500</td>\n",
       "      <td>24.000000</td>\n",
       "      <td>711.000000</td>\n",
       "      <td>23.000000</td>\n",
       "      <td>396.900000</td>\n",
       "      <td>36.980000</td>\n",
       "    </tr>\n",
       "  </tbody>\n",
       "</table>\n",
       "</div>"
      ],
      "text/plain": [
       "             CRIM          ZN      INDUS        CHAS         NOX          RM  \\\n",
       "count  408.000000  408.000000  408.00000  408.000000  408.000000  408.000000   \n",
       "mean     3.574915   10.730392   11.37527    0.068627    0.558200    6.268260   \n",
       "std      8.066171   22.067428    6.83855    0.253130    0.116078    0.699504   \n",
       "min      0.006320    0.000000    0.74000    0.000000    0.389000    3.561000   \n",
       "25%      0.087962    0.000000    5.32000    0.000000    0.453000    5.878750   \n",
       "50%      0.286735    0.000000    9.90000    0.000000    0.538000    6.208000   \n",
       "75%      3.716457   12.500000   18.10000    0.000000    0.625750    6.626000   \n",
       "max     73.534100  100.000000   27.74000    1.000000    0.871000    8.704000   \n",
       "\n",
       "              AGE         DIS         RAD         TAX     PTRATIO           B  \\\n",
       "count  408.000000  408.000000  408.000000  408.000000  408.000000  408.000000   \n",
       "mean    69.169363    3.738277    9.666667  411.227941   18.500245  353.601397   \n",
       "std     28.275511    2.085949    8.716483  168.222809    2.143483   95.566677   \n",
       "min      2.900000    1.129600    1.000000  187.000000   13.000000    0.320000   \n",
       "25%     45.075000    2.062000    4.000000  284.000000   17.400000  374.617500   \n",
       "50%     77.950000    3.107300    5.000000  335.000000   19.050000  390.980000   \n",
       "75%     94.150000    4.978850   24.000000  666.000000   20.200000  395.645000   \n",
       "max    100.000000   12.126500   24.000000  711.000000   23.000000  396.900000   \n",
       "\n",
       "            LSTAT  \n",
       "count  408.000000  \n",
       "mean    12.920907  \n",
       "std      7.230954  \n",
       "min      1.730000  \n",
       "25%      6.927500  \n",
       "50%     11.705000  \n",
       "75%     17.272500  \n",
       "max     36.980000  "
      ]
     },
     "execution_count": 38,
     "metadata": {},
     "output_type": "execute_result"
    }
   ],
   "source": [
    "housing_tr.describe()"
   ]
  },
  {
   "cell_type": "markdown",
   "metadata": {
    "_cell_guid": "0322ea4b-cfab-4179-b545-b75208bc0472",
    "_uuid": "66584712-72e9-4581-986d-727c272cc234"
   },
   "source": [
    "## Scikit-learn Design"
   ]
  },
  {
   "cell_type": "markdown",
   "metadata": {
    "_cell_guid": "0d381ae7-26fd-4b67-b215-2733368ac49e",
    "_uuid": "d28fb528-01f0-47ee-a538-b922fb9617dc"
   },
   "source": [
    "Primarily, three types of objects\n",
    "1. Estimators - It estimates some parameter based on a dataset. Eg. imputer. It has a fit method and transform method. Fit method - Fits the dataset and calculates internal parameters\n",
    "\n",
    "2. Transformers - transform method takes input and returns output based on the learnings from fit(). It also has a convenience function called fit_transform() which fits and then transforms.\n",
    "\n",
    "3. Predictors - LinearRegression model is an example of predictor. fit() and predict() are two common functions. It also gives score() function which will evaluate the predictions."
   ]
  },
  {
   "cell_type": "markdown",
   "metadata": {
    "_cell_guid": "b6b304b8-5eed-476b-b1d2-8c4480aaded0",
    "_uuid": "e6461a83-0841-4bcb-b289-f3e6eae6cb97"
   },
   "source": [
    "## Feature Scaling"
   ]
  },
  {
   "cell_type": "markdown",
   "metadata": {
    "_cell_guid": "b9af6c7e-bea9-4c4c-858d-e27923c2ff13",
    "_uuid": "052860f7-24e0-4ca5-91f6-bfcdd33a06df"
   },
   "source": [
    "Primarily, two types of feature scaling methods:\n",
    "1. Min-max scaling (Normalization)\n",
    "    (value - min)/(max - min)\n",
    "    Sklearn provides a class called MinMaxScaler for this\n",
    "    \n",
    "2. Standardization\n",
    "    (value - mean)/std\n",
    "    Sklearn provides a class called StandardScaler for this"
   ]
  },
  {
   "cell_type": "markdown",
   "metadata": {
    "_cell_guid": "af33ecca-02d6-46f2-adba-587941b6f616",
    "_uuid": "95798fcf-c2fd-4615-8320-63c880def3cb"
   },
   "source": [
    "## Creating a Pipeline"
   ]
  },
  {
   "cell_type": "code",
   "execution_count": 39,
   "metadata": {
    "ExecuteTime": {
     "end_time": "2020-10-10T10:05:14.803429Z",
     "start_time": "2020-10-10T10:05:14.763460Z"
    },
    "_cell_guid": "9b00b1e4-4409-4578-846a-a4c9307ad445",
    "_uuid": "eddf30f0-0533-4fc4-a142-1392befe8ef4"
   },
   "outputs": [],
   "source": [
    "from sklearn.pipeline import Pipeline\n",
    "from sklearn.preprocessing import StandardScaler\n",
    "my_pipeline = Pipeline([\n",
    "    ('imputer', SimpleImputer(strategy=\"median\")),\n",
    "    #     ..... add as many as you want in your pipeline\n",
    "    ('std_scaler', StandardScaler()),\n",
    "])"
   ]
  },
  {
   "cell_type": "code",
   "execution_count": 40,
   "metadata": {
    "ExecuteTime": {
     "end_time": "2020-10-10T10:05:19.223118Z",
     "start_time": "2020-10-10T10:05:19.189302Z"
    },
    "_cell_guid": "4ef859a2-c276-4b13-ac3d-328dedb42aea",
    "_uuid": "0a726c3e-8062-4645-ac8e-84a9aed0a920"
   },
   "outputs": [],
   "source": [
    "housing_num_tr = my_pipeline.fit_transform(housing)"
   ]
  },
  {
   "cell_type": "code",
   "execution_count": 41,
   "metadata": {
    "ExecuteTime": {
     "end_time": "2020-10-10T10:05:23.367490Z",
     "start_time": "2020-10-10T10:05:23.350136Z"
    },
    "_cell_guid": "817486e4-d8b5-4173-a467-d09b13f09889",
    "_uuid": "ae1b6698-e9cd-4926-b805-ce27d82b46a4"
   },
   "outputs": [
    {
     "data": {
      "text/plain": [
       "(408, 13)"
      ]
     },
     "execution_count": 41,
     "metadata": {},
     "output_type": "execute_result"
    }
   ],
   "source": [
    "housing_num_tr.shape"
   ]
  },
  {
   "cell_type": "markdown",
   "metadata": {
    "_cell_guid": "be195717-c2a5-4d4a-bb85-55ac66a32419",
    "_uuid": "d105b70d-a47b-47ac-b7fe-6df828ad36bd"
   },
   "source": [
    "## Selecting a desired model for Dragon Real Estates"
   ]
  },
  {
   "cell_type": "code",
   "execution_count": 42,
   "metadata": {
    "ExecuteTime": {
     "end_time": "2020-10-10T10:05:29.132277Z",
     "start_time": "2020-10-10T10:05:27.237053Z"
    },
    "_cell_guid": "15fe0e08-7640-4e90-843c-3295129954d0",
    "_uuid": "481d0a12-4e60-4cb3-a0a0-b6df491487c2"
   },
   "outputs": [
    {
     "data": {
      "text/plain": [
       "RandomForestRegressor()"
      ]
     },
     "execution_count": 42,
     "metadata": {},
     "output_type": "execute_result"
    }
   ],
   "source": [
    "from sklearn.linear_model import LinearRegression\n",
    "from sklearn.tree import DecisionTreeRegressor\n",
    "from sklearn.ensemble import RandomForestRegressor\n",
    "# model = LinearRegression()\n",
    "# model = DecisionTreeRegressor()\n",
    "model = RandomForestRegressor()\n",
    "model.fit(housing_num_tr, housing_labels)"
   ]
  },
  {
   "cell_type": "code",
   "execution_count": 43,
   "metadata": {
    "ExecuteTime": {
     "end_time": "2020-10-10T10:05:33.311935Z",
     "start_time": "2020-10-10T10:05:33.296944Z"
    },
    "_cell_guid": "f2996746-4610-4ad4-9f30-2d226d2c872c",
    "_uuid": "cade1dea-1bc3-458c-8ace-cccb1710fcc1"
   },
   "outputs": [],
   "source": [
    "some_data = housing.iloc[:5]"
   ]
  },
  {
   "cell_type": "code",
   "execution_count": 44,
   "metadata": {
    "ExecuteTime": {
     "end_time": "2020-10-10T10:05:37.807443Z",
     "start_time": "2020-10-10T10:05:37.793021Z"
    },
    "_cell_guid": "3a195016-6e3c-486c-bf08-3c3365d102c9",
    "_uuid": "1331ac11-a34f-474b-a501-1bafdceaab8f"
   },
   "outputs": [],
   "source": [
    "some_labels = housing_labels.iloc[:5]"
   ]
  },
  {
   "cell_type": "code",
   "execution_count": 45,
   "metadata": {
    "ExecuteTime": {
     "end_time": "2020-10-10T10:05:53.116801Z",
     "start_time": "2020-10-10T10:05:53.105876Z"
    },
    "_cell_guid": "2cec49f8-ff63-4d16-936e-149968927246",
    "_uuid": "64a0bcbc-b1a3-4e45-a2e1-a11b8e60d9cf"
   },
   "outputs": [],
   "source": [
    "prepared_data = my_pipeline.transform(some_data)"
   ]
  },
  {
   "cell_type": "code",
   "execution_count": 46,
   "metadata": {
    "ExecuteTime": {
     "end_time": "2020-10-10T10:05:58.021643Z",
     "start_time": "2020-10-10T10:05:57.945979Z"
    },
    "_cell_guid": "38a62e77-796a-44d9-81c8-1e846e552d91",
    "_uuid": "fd113ccf-a3e3-4502-86e5-b8dc82dbc6fc"
   },
   "outputs": [
    {
     "data": {
      "text/plain": [
       "array([21.749, 22.381, 25.647, 30.479, 20.227])"
      ]
     },
     "execution_count": 46,
     "metadata": {},
     "output_type": "execute_result"
    }
   ],
   "source": [
    "model.predict(prepared_data)"
   ]
  },
  {
   "cell_type": "code",
   "execution_count": 47,
   "metadata": {
    "ExecuteTime": {
     "end_time": "2020-10-10T10:06:02.795726Z",
     "start_time": "2020-10-10T10:06:02.774674Z"
    },
    "_cell_guid": "19df7faa-43a6-4091-bf9b-018ca66b5495",
    "_uuid": "694c56f4-2977-460c-97b1-c3f8d8fed628"
   },
   "outputs": [
    {
     "data": {
      "text/plain": [
       "[23.1, 21.9, 27.5, 31.1, 18.9]"
      ]
     },
     "execution_count": 47,
     "metadata": {},
     "output_type": "execute_result"
    }
   ],
   "source": [
    "list(some_labels)"
   ]
  },
  {
   "cell_type": "markdown",
   "metadata": {
    "_cell_guid": "943bcfd6-8563-4dab-b3ee-02061378e29d",
    "_uuid": "12166fdc-4d65-4574-8e94-153c6f322470"
   },
   "source": [
    "## Evaluating the model"
   ]
  },
  {
   "cell_type": "code",
   "execution_count": 48,
   "metadata": {
    "ExecuteTime": {
     "end_time": "2020-10-10T10:06:07.512560Z",
     "start_time": "2020-10-10T10:06:07.461833Z"
    },
    "_cell_guid": "d82a2832-4b06-4d6a-8caf-29ac377cd6a1",
    "_uuid": "a8720f26-f289-4ba7-8d73-a46899ef1813"
   },
   "outputs": [],
   "source": [
    "from sklearn.metrics import mean_squared_error\n",
    "housing_predictions = model.predict(housing_num_tr)\n",
    "mse = mean_squared_error(housing_labels, housing_predictions)\n",
    "rmse = np.sqrt(mse)"
   ]
  },
  {
   "cell_type": "code",
   "execution_count": 49,
   "metadata": {
    "ExecuteTime": {
     "end_time": "2020-10-10T10:06:12.518058Z",
     "start_time": "2020-10-10T10:06:12.497453Z"
    },
    "_cell_guid": "c2b4b399-fd4d-4f68-8770-9c05c3a0639d",
    "_uuid": "59260eba-4654-4d98-9c62-5da234e70042"
   },
   "outputs": [
    {
     "data": {
      "text/plain": [
       "1.4874308543823558"
      ]
     },
     "execution_count": 49,
     "metadata": {},
     "output_type": "execute_result"
    }
   ],
   "source": [
    "rmse"
   ]
  },
  {
   "cell_type": "markdown",
   "metadata": {
    "_cell_guid": "cf50f4f3-0e90-4295-a801-3cf20d295840",
    "_uuid": "31158afe-0bd8-46e4-a3ac-36df911b7b10"
   },
   "source": [
    "## Using better evaluation technique - Cross Validation"
   ]
  },
  {
   "cell_type": "code",
   "execution_count": 50,
   "metadata": {
    "ExecuteTime": {
     "end_time": "2020-10-10T10:06:17.617882Z",
     "start_time": "2020-10-10T10:06:17.606138Z"
    },
    "_cell_guid": "b43bce0d-1155-44d7-9295-2c1d86c64f75",
    "_uuid": "199301bd-24aa-4098-bc52-ac77d0bc2ea1"
   },
   "outputs": [],
   "source": [
    "from sklearn.metrics import r2_score"
   ]
  },
  {
   "cell_type": "code",
   "execution_count": 51,
   "metadata": {
    "ExecuteTime": {
     "end_time": "2020-10-10T10:06:31.535467Z",
     "start_time": "2020-10-10T10:06:22.278348Z"
    },
    "_cell_guid": "57ee497b-5c0c-40d1-be93-fc20dc26fa86",
    "_uuid": "2a5cdbc0-f872-4f4d-b1b8-842fac472771"
   },
   "outputs": [],
   "source": [
    "# 1 2 3 4 5 6 7 8 9 10\n",
    "from sklearn.model_selection import cross_val_score\n",
    "scores = cross_val_score(model, housing_num_tr, housing_labels, scoring=\"neg_mean_squared_error\", cv=10)\n",
    "rmse_scores = np.sqrt(-scores)"
   ]
  },
  {
   "cell_type": "code",
   "execution_count": 52,
   "metadata": {
    "ExecuteTime": {
     "end_time": "2020-10-10T10:06:36.678037Z",
     "start_time": "2020-10-10T10:06:36.641511Z"
    },
    "_cell_guid": "1a5578ce-abb7-46c6-8841-de4ddd9934e7",
    "_uuid": "cb0f741e-eac5-437b-abae-7a92fb122385"
   },
   "outputs": [
    {
     "data": {
      "text/plain": [
       "array([3.00378445, 3.93729004, 5.10122055, 4.20617159, 3.0242006 ,\n",
       "       2.18922825, 6.93577849, 2.92493718, 3.36886069, 3.64421746])"
      ]
     },
     "execution_count": 52,
     "metadata": {},
     "output_type": "execute_result"
    }
   ],
   "source": [
    "rmse_scores"
   ]
  },
  {
   "cell_type": "code",
   "execution_count": 53,
   "metadata": {
    "ExecuteTime": {
     "end_time": "2020-10-10T10:06:42.068154Z",
     "start_time": "2020-10-10T10:06:42.059419Z"
    },
    "_cell_guid": "cbcea417-2fad-4cac-b95d-6491b7e92793",
    "_uuid": "6028e7d6-246f-407c-add2-4e27d4eb4a1f"
   },
   "outputs": [],
   "source": [
    "def print_scores(scores):\n",
    "    print(\"Scores:\", scores)\n",
    "    print(\"Mean: \", scores.mean())\n",
    "    print(\"Standard deviation: \", scores.std())"
   ]
  },
  {
   "cell_type": "code",
   "execution_count": 54,
   "metadata": {
    "ExecuteTime": {
     "end_time": "2020-10-10T10:06:46.847850Z",
     "start_time": "2020-10-10T10:06:46.824637Z"
    },
    "_cell_guid": "00330d45-ce69-4ace-9aaf-89c00e2b885d",
    "_uuid": "eaca6497-0a4d-4e49-8953-83a9e3f466c2"
   },
   "outputs": [
    {
     "name": "stdout",
     "output_type": "stream",
     "text": [
      "Scores: [3.00378445 3.93729004 5.10122055 4.20617159 3.0242006  2.18922825\n",
      " 6.93577849 2.92493718 3.36886069 3.64421746]\n",
      "Mean:  3.833568930976701\n",
      "Standard deviation:  1.2847229513852434\n"
     ]
    }
   ],
   "source": [
    "print_scores(rmse_scores)"
   ]
  },
  {
   "cell_type": "markdown",
   "metadata": {
    "_cell_guid": "ace72479-f585-4b85-bafb-eb91f221aa11",
    "_uuid": "904773f7-c9dd-409e-b10d-69d42b94acdb"
   },
   "source": [
    "## Saving the model"
   ]
  },
  {
   "cell_type": "code",
   "execution_count": 55,
   "metadata": {
    "ExecuteTime": {
     "end_time": "2020-10-10T10:07:06.108336Z",
     "start_time": "2020-10-10T10:07:05.850399Z"
    },
    "_cell_guid": "461338fc-5ed6-4a88-a5d5-a7d2d3ff5043",
    "_uuid": "280c2e27-e461-445a-b8ee-fa13cda594e2"
   },
   "outputs": [
    {
     "data": {
      "text/plain": [
       "['Dragon.joblib']"
      ]
     },
     "execution_count": 55,
     "metadata": {},
     "output_type": "execute_result"
    }
   ],
   "source": [
    "from joblib import dump, load\n",
    "dump(model, 'Dragon.joblib')"
   ]
  },
  {
   "cell_type": "markdown",
   "metadata": {
    "_cell_guid": "c4eaa8f5-bf93-450c-bfb5-4e910aa75d50",
    "_uuid": "6e6a6a31-741f-415d-ac4d-d2eb0bef26b7"
   },
   "source": [
    "## Testing the model on test data"
   ]
  },
  {
   "cell_type": "code",
   "execution_count": 56,
   "metadata": {
    "ExecuteTime": {
     "end_time": "2020-10-10T10:07:10.630415Z",
     "start_time": "2020-10-10T10:07:10.560054Z"
    },
    "_cell_guid": "c0753efb-c405-47ca-bfaa-9a118a94a4bb",
    "_uuid": "6bafb0fc-486b-4a01-9cab-9e24016b31cf"
   },
   "outputs": [
    {
     "name": "stdout",
     "output_type": "stream",
     "text": [
      "[21.666 27.135 24.245 26.35  33.191 23.388 22.427 20.629 22.806 20.979\n",
      " 10.852 22.094 27.259 19.748 14.708 18.621 18.812 19.341 18.621 31.45\n",
      " 25.895 18.695 31.532 15.714 24.71  18.53  14.757 31.182 19.159 20.401\n",
      " 24.545 19.133 44.946 30.496 21.425 41.643 32.817 22.331 26.763 21.881\n",
      " 19.607 13.821 22.624 28.647 24.244 11.463  8.936 33.906 43.058 19.414\n",
      " 23.447 36.597 15.138 25.254 20.17  28.904 19.499 18.767 23.34  20.282\n",
      " 20.358 32.924 10.939 21.21  22.696 22.043 15.393 20.761 19.409 19.245\n",
      " 31.685 22.414 29.025 19.748 47.327 15.75  19.788 38.667 45.116 16.7\n",
      " 24.569 10.422 44.439 20.679 25.296 15.318 37.133 11.802 31.458 20.81\n",
      " 17.687 43.58  20.989 14.591  7.434 12.718 33.23  29.778 34.033 22.24\n",
      " 17.707 33.15  19.475] [22.4, 25.0, 22.2, 24.4, 31.5, 23.3, 25.0, 24.5, 22.0, 20.3, 12.3, 21.2, 28.0, 23.8, 14.6, 20.8, 17.2, 19.5, 14.4, 28.5, 30.1, 19.6, 23.6, 19.4, 24.7, 19.9, 13.5, 30.3, 21.8, 20.4, 27.9, 18.9, 46.0, 23.9, 21.7, 44.0, 33.2, 21.6, 27.0, 19.8, 20.9, 16.7, 22.2, 24.8, 28.1, 12.7, 7.2, 37.3, 43.1, 23.8, 23.8, 50.0, 15.6, 27.1, 20.1, 29.1, 18.6, 19.5, 20.1, 21.1, 19.7, 33.1, 13.1, 20.4, 23.6, 20.6, 14.1, 22.7, 16.8, 21.5, 32.0, 20.3, 31.0, 19.2, 50.0, 13.6, 18.7, 67.0, 41.7, 10.4, 16.5, 7.2, 50.0, 19.6, 36.2, 12.7, 24.0, 10.2, 32.2, 24.3, 19.5, 21.9, 23.4, 11.7, 5.0, 13.8, 34.6, 26.7, 33.3, 23.2, 16.8, 32.0, 19.4]\n"
     ]
    }
   ],
   "source": [
    "X_test = strat_test_set.drop(\"MEDV\", axis=1)\n",
    "Y_test = strat_test_set[\"MEDV\"].copy()\n",
    "X_test_prepared = my_pipeline.transform(X_test)\n",
    "final_predictions = model.predict(X_test_prepared)\n",
    "final_mse = mean_squared_error(Y_test, final_predictions)\n",
    "final_rmse = np.sqrt(final_mse)\n",
    "print(final_predictions, list(Y_test))"
   ]
  },
  {
   "cell_type": "code",
   "execution_count": 57,
   "metadata": {
    "ExecuteTime": {
     "end_time": "2020-10-10T10:07:16.480654Z",
     "start_time": "2020-10-10T10:07:16.461377Z"
    },
    "_cell_guid": "e540ac16-fbe4-4c4c-836a-16cf5f969ffc",
    "_uuid": "5cf58848-8644-4dd7-b868-8b08fa0160bc"
   },
   "outputs": [
    {
     "data": {
      "text/plain": [
       "4.795643604619121"
      ]
     },
     "execution_count": 57,
     "metadata": {},
     "output_type": "execute_result"
    }
   ],
   "source": [
    "final_rmse"
   ]
  },
  {
   "cell_type": "code",
   "execution_count": 58,
   "metadata": {
    "ExecuteTime": {
     "end_time": "2020-10-10T10:07:22.254984Z",
     "start_time": "2020-10-10T10:07:22.235621Z"
    },
    "_cell_guid": "661c10d0-99c0-4a66-88d6-3db5bf3a8e33",
    "_uuid": "4eb42c31-812a-4411-a1a0-5f2a1b98aea2"
   },
   "outputs": [
    {
     "data": {
      "text/plain": [
       "array([-0.42152521, -0.48685178, -0.24673925, -0.27144836,  0.2311586 ,\n",
       "       -0.85631303, -1.42946756, -0.4510327 , -0.42117544, -0.12039257,\n",
       "        0.3268577 ,  0.41580739,  0.64788652])"
      ]
     },
     "execution_count": 58,
     "metadata": {},
     "output_type": "execute_result"
    }
   ],
   "source": [
    "prepared_data[0]"
   ]
  },
  {
   "cell_type": "markdown",
   "metadata": {
    "_cell_guid": "7a82a145-3cca-463f-9c2b-be88ab3d901c",
    "_uuid": "9a53a202-6b0c-43b3-bf67-ee30a1132cf7"
   },
   "source": [
    "## Using the model"
   ]
  },
  {
   "cell_type": "code",
   "execution_count": 59,
   "metadata": {
    "ExecuteTime": {
     "end_time": "2020-10-10T10:07:28.185332Z",
     "start_time": "2020-10-10T10:07:27.985038Z"
    },
    "_cell_guid": "c6b4c1a6-cb1d-4988-b1db-4f354da0c833",
    "_uuid": "569a0451-3c43-45f5-8ed8-04fcd55a2e80",
    "scrolled": true
   },
   "outputs": [
    {
     "data": {
      "text/plain": [
       "array([23.796])"
      ]
     },
     "execution_count": 59,
     "metadata": {},
     "output_type": "execute_result"
    }
   ],
   "source": [
    "from joblib import dump, load\n",
    "import numpy as np\n",
    "model = load('Dragon.joblib') \n",
    "features = np.array([[-5.43942006, 4.12628155, -1.6165014, -0.67288841, -1.42262747,\n",
    "       -11.44443979304, -49.31238772,  7.61111401, -26.0016879 , -0.5778192 ,\n",
    "       -0.97491834,  0.41164221, -66.86091034]])\n",
    "model.predict(features)"
   ]
  }
 ],
 "metadata": {
  "kernelspec": {
   "display_name": "Python 3",
   "language": "python",
   "name": "python3"
  },
  "language_info": {
   "codemirror_mode": {
    "name": "ipython",
    "version": 3
   },
   "file_extension": ".py",
   "mimetype": "text/x-python",
   "name": "python",
   "nbconvert_exporter": "python",
   "pygments_lexer": "ipython3",
   "version": "3.8.2"
  },
  "nbTranslate": {
   "displayLangs": [
    "*"
   ],
   "hotkey": "alt-t",
   "langInMainMenu": true,
   "sourceLang": "en",
   "targetLang": "fr",
   "useGoogleTranslate": true
  },
  "varInspector": {
   "cols": {
    "lenName": 16,
    "lenType": 16,
    "lenVar": 40
   },
   "kernels_config": {
    "python": {
     "delete_cmd_postfix": "",
     "delete_cmd_prefix": "del ",
     "library": "var_list.py",
     "varRefreshCmd": "print(var_dic_list())"
    },
    "r": {
     "delete_cmd_postfix": ") ",
     "delete_cmd_prefix": "rm(",
     "library": "var_list.r",
     "varRefreshCmd": "cat(var_dic_list()) "
    }
   },
   "types_to_exclude": [
    "module",
    "function",
    "builtin_function_or_method",
    "instance",
    "_Feature"
   ],
   "window_display": false
  }
 },
 "nbformat": 4,
 "nbformat_minor": 4
}
